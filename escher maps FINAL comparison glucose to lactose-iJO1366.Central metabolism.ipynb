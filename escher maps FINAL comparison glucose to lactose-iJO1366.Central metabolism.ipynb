{
 "cells": [
  {
   "cell_type": "code",
   "execution_count": 1,
   "id": "developmental-pavilion",
   "metadata": {},
   "outputs": [
    {
     "name": "stdout",
     "output_type": "stream",
     "text": [
      "Academic license - for non-commercial use only - expires 2024-03-07\n",
      "Using license file /home/schwartzlab/gurobi.lic\n"
     ]
    }
   ],
   "source": [
    "import numpy as np\n",
    "import pandas as pd\n",
    "import cobra.test\n",
    "import os\n",
    "\n",
    "from os.path import join\n",
    "\n",
    "from time import time\n",
    "\n",
    "\n",
    "from cobra.flux_analysis import (\n",
    "    single_gene_deletion, single_reaction_deletion, double_gene_deletion,\n",
    "    double_reaction_deletion)\n",
    "\n",
    "a = cobra.io.read_sbml_model(\"iEC1344_C.xml\")\n"
   ]
  },
  {
   "cell_type": "code",
   "execution_count": 2,
   "id": "everyday-currency",
   "metadata": {},
   "outputs": [
    {
     "data": {
      "application/vnd.jupyter.widget-view+json": {
       "model_id": "dc13397d62014c7fb268cfa20c1bb01c",
       "version_major": 2,
       "version_minor": 0
      },
      "text/plain": [
       "Builder(never_ask_before_quit=True)"
      ]
     },
     "metadata": {},
     "output_type": "display_data"
    }
   ],
   "source": [
    "import escher\n",
    "from escher import Builder\n",
    "import cobra\n",
    "from time import sleep\n",
    "\n",
    "escher.rc['never_ask_before_quit'] = True\n",
    "\n",
    "builder = Builder()\n",
    "builder"
   ]
  },
  {
   "cell_type": "code",
   "execution_count": 3,
   "id": "unauthorized-result",
   "metadata": {},
   "outputs": [
    {
     "name": "stdout",
     "output_type": "stream",
     "text": [
      "Downloading Map from https://escher.github.io/1-0-0/6/maps/Escherichia%20coli/iJO1366.Central%20metabolism.json\n"
     ]
    },
    {
     "data": {
      "application/vnd.jupyter.widget-view+json": {
       "model_id": "73f3d5a0761c4544aea57cdada879637",
       "version_major": 2,
       "version_minor": 0
      },
      "text/plain": [
       "Builder(never_ask_before_quit=True, reaction_data=[{0: 'H2Stex', 1: 'PAPSR', 2: 'ARGAGMt7pp', 3: 'METAT', 4: '…"
      ]
     },
     "metadata": {},
     "output_type": "display_data"
    }
   ],
   "source": [
    "solution = a.optimize()\n",
    "solution.objective_value\n",
    "\n",
    "reactions = pd.read_csv('FINAL different reactions glu vs lac.csv')\n",
    "\n",
    "builder = escher.Builder(map_name='iJO1366.Central metabolism', model=a, reaction_data=reactions)\n",
    "builder"
   ]
  },
  {
   "cell_type": "code",
   "execution_count": 4,
   "id": "still-community",
   "metadata": {},
   "outputs": [
    {
     "data": {
      "text/plain": [
       "pandas.core.frame.DataFrame"
      ]
     },
     "execution_count": 4,
     "metadata": {},
     "output_type": "execute_result"
    }
   ],
   "source": [
    "type(reactions.squeeze())"
   ]
  },
  {
   "cell_type": "code",
   "execution_count": 5,
   "id": "demonstrated-turner",
   "metadata": {},
   "outputs": [
    {
     "data": {
      "text/plain": [
       "pandas.core.series.Series"
      ]
     },
     "execution_count": 5,
     "metadata": {},
     "output_type": "execute_result"
    }
   ],
   "source": [
    "type(reactions.iloc[:,1])"
   ]
  },
  {
   "cell_type": "code",
   "execution_count": null,
   "id": "concrete-azerbaijan",
   "metadata": {},
   "outputs": [],
   "source": []
  },
  {
   "cell_type": "code",
   "execution_count": null,
   "id": "perfect-pastor",
   "metadata": {},
   "outputs": [],
   "source": []
  },
  {
   "cell_type": "code",
   "execution_count": 10,
   "id": "coastal-building",
   "metadata": {},
   "outputs": [],
   "source": [
    "solution = a.optimize()\n",
    "solution.objective_value\n",
    "\n",
    "reactions = pd.read_csv('FINAL different reactions glu vs lac.csv')\n"
   ]
  },
  {
   "cell_type": "code",
   "execution_count": 11,
   "id": "protecting-farming",
   "metadata": {},
   "outputs": [
    {
     "ename": "SyntaxError",
     "evalue": "invalid character in identifier (<ipython-input-11-0338524b9a96>, line 9)",
     "output_type": "error",
     "traceback": [
      "\u001b[0;36m  File \u001b[0;32m\"<ipython-input-11-0338524b9a96>\"\u001b[0;36m, line \u001b[0;32m9\u001b[0m\n\u001b[0;31m    res[key] = value\u001b[0m\n\u001b[0m      ^\u001b[0m\n\u001b[0;31mSyntaxError\u001b[0m\u001b[0;31m:\u001b[0m invalid character in identifier\n"
     ]
    }
   ],
   "source": [
    "test_values = reactions.iloc[:,1].tolist()\n",
    "test_keys = reactions.iloc[:,0].tolist()\n",
    "\n",
    "print(\"Original key list is : \" + str(test_keys))\n",
    "print(\"Original value list is : \" + str(test_values))\n",
    "\n",
    "res = {}\n",
    "for key in test_keys and value in test_values:\n",
    "        res[key] = value\n",
    "        test_values.remove(value)\n",
    "        break\n",
    "\n",
    "print(\"Resultant dictionary is : \" + str(res))"
   ]
  },
  {
   "cell_type": "code",
   "execution_count": 12,
   "id": "listed-deadline",
   "metadata": {},
   "outputs": [
    {
     "data": {
      "text/plain": [
       "['H2Stex',\n",
       " 'PAPSR',\n",
       " 'ARGAGMt7pp',\n",
       " 'METAT',\n",
       " 'ACM6PH',\n",
       " 'LPLIPAL1E180pp',\n",
       " '3OAR121',\n",
       " 'NACtpp',\n",
       " 'EX_g3pg_e',\n",
       " 'ASNN',\n",
       " 'LPLIPAL1E181pp',\n",
       " 'PRMICI',\n",
       " 'AGMtex',\n",
       " 'DHQTi',\n",
       " 'EAR80y',\n",
       " 'GSNt2pp',\n",
       " 'ACtex',\n",
       " 'EX_ptrc_e',\n",
       " '3OAS140',\n",
       " 'GLYALDtex',\n",
       " 'IGPS',\n",
       " 'LPLIPAL1E161pp',\n",
       " '3HAD141',\n",
       " 'ACOAD2f',\n",
       " 'SHK3Dr',\n",
       " 'EX_gal_e',\n",
       " 'GALKr',\n",
       " 'DM_oxam_c',\n",
       " 'SUCCtex',\n",
       " 'EX_leu__L_e',\n",
       " 'PPS',\n",
       " 'DAPabcpp',\n",
       " 'UGLYCH',\n",
       " 'ALCD2x',\n",
       " 'ECOAH2',\n",
       " 'XPPT',\n",
       " 'EX_g1p_e',\n",
       " 'G3PGabcpp',\n",
       " 'PSP_Lpp',\n",
       " 'GLYCAtex',\n",
       " 'HISTP',\n",
       " 'G1PPpp',\n",
       " 'EX_lys__L_e',\n",
       " 'CYTDt2pp',\n",
       " 'MDDCP2pp',\n",
       " 'LCTStex',\n",
       " 'EX_taur_e',\n",
       " 'THMDt2pp',\n",
       " 'PHEt2rpp',\n",
       " 'AIRC2',\n",
       " 'EAR60y',\n",
       " 'PGMT',\n",
       " 'ADNt2pp',\n",
       " 'IMPC',\n",
       " 'TYRtex',\n",
       " 'ICHORS_copy1',\n",
       " 'LYStex',\n",
       " 'MLTGY1pp',\n",
       " 'EX_cynt_e',\n",
       " 'MTRI',\n",
       " 'LACZ',\n",
       " 'ALLTNt2rpp',\n",
       " 'EX_etoh_e',\n",
       " 'LEUTAi',\n",
       " 'ANHMK',\n",
       " 'PGK',\n",
       " '3HAD100',\n",
       " 'DHORDfum',\n",
       " 'PYRt2rpp',\n",
       " 'CHORM',\n",
       " 'UAGCVT',\n",
       " 'FEROpp',\n",
       " 'UAPGR',\n",
       " 'CGLYtex',\n",
       " 'PLIPA2E120pp',\n",
       " 'PRAIi',\n",
       " 'PLIPA2E180pp',\n",
       " 'SDPDS',\n",
       " 'MTAN',\n",
       " 'UNK3',\n",
       " 'TKT2',\n",
       " 'EAR80x',\n",
       " 'ACOAD1f',\n",
       " 'SKMt2pp',\n",
       " 'EX_orn_e',\n",
       " 'UAMAS',\n",
       " 'HSTPT',\n",
       " 'D_LACt2pp',\n",
       " 'DHORD2',\n",
       " 'G3PEtex',\n",
       " 'H2SO',\n",
       " 'GALabcpp',\n",
       " 'ACGAptspp',\n",
       " 'HACD2',\n",
       " 'EX_co2_e',\n",
       " 'METabcpp',\n",
       " 'DINSt2pp',\n",
       " 'PRAIS',\n",
       " 'DADNt2pp',\n",
       " 'EX_tre_e',\n",
       " 'AICART',\n",
       " 'ARGtex',\n",
       " 'AM4PA',\n",
       " 'MLTGY4pp',\n",
       " 'GALtex',\n",
       " 'XAND',\n",
       " 'AGM4PA',\n",
       " 'EX_agm_e',\n",
       " 'BPNT',\n",
       " 'EX_hxa_e',\n",
       " 'ALAtex',\n",
       " 'LALGP',\n",
       " 'BALAt2pp',\n",
       " 'METSOX2abcpp',\n",
       " 'ORNtex',\n",
       " 'DHORD5',\n",
       " 'HIStex',\n",
       " 'ILEtex',\n",
       " 'ADSK',\n",
       " 'ECOAH4',\n",
       " 'L_LACt2rpp',\n",
       " '3OAS80',\n",
       " 'EX_succ_e',\n",
       " 'PRAMPC',\n",
       " 'CPPPGO',\n",
       " 'ACGAMK',\n",
       " 'OBTFL',\n",
       " 'EX_galctn__D_e',\n",
       " 'EX_glyc__R_e',\n",
       " 'AGM4PApp',\n",
       " 'PLIPA2E140pp',\n",
       " 'MDDCP1pp',\n",
       " 'CO2tpp',\n",
       " 'OMCDC',\n",
       " 'ALAALAabcpp',\n",
       " 'IG3PS',\n",
       " '3HAD121',\n",
       " 'UGLT',\n",
       " 'DAPE',\n",
       " 'CHORS',\n",
       " 'ASPtex',\n",
       " 'ASPCT',\n",
       " 'ADMDC',\n",
       " 'ALLTN',\n",
       " 'UAGPT3',\n",
       " 'EX_h2s_e',\n",
       " 'PRASCSi',\n",
       " 'FACOAL80t2pp',\n",
       " 'NH4tpp',\n",
       " 'HISTD',\n",
       " 'DHAtpp',\n",
       " 'ASNtex',\n",
       " 'PLIPA2E141pp',\n",
       " 'METSOX1abcpp',\n",
       " 'AGM3PH',\n",
       " 'EX_g3pe_e',\n",
       " 'EX_cgly_e',\n",
       " 'EX_so4_e',\n",
       " 'TKT1',\n",
       " 'IPMD',\n",
       " 'INSt2pp',\n",
       " 'DHQS',\n",
       " 'DSERt2pp',\n",
       " 'PLIPA2E160pp',\n",
       " 'TYRPpp',\n",
       " 'EX_alltn_e',\n",
       " 'EX_LalaDgluMdapDala_e',\n",
       " 'AGMt2pp',\n",
       " 'SULR',\n",
       " '3OAS100',\n",
       " 'URDGLYCD',\n",
       " 'ENTERES2',\n",
       " 'GLCtex_copy1',\n",
       " '3OAR140',\n",
       " 'FA80ACPHi',\n",
       " 'EX_ala__L_e',\n",
       " 'PYDAMtpp',\n",
       " 'ALCD19',\n",
       " 'ACOATA',\n",
       " 'EAR141y',\n",
       " 'ETHAt2pp',\n",
       " 'HACD1',\n",
       " 'ETOHtrpp',\n",
       " 'OMPDC',\n",
       " '3OAR141',\n",
       " 'PAPSR2',\n",
       " 'THDPS',\n",
       " 'ACACT2r',\n",
       " 'EX_15dap_e',\n",
       " 'ACALDtpp',\n",
       " 'ADSL2r',\n",
       " 'ACMANAptspp',\n",
       " 'MDDEP4pp',\n",
       " 'PHETA1',\n",
       " 'IPPMIb',\n",
       " 'ETOHtex',\n",
       " 'AGM4PCPpp',\n",
       " 'O2tpp',\n",
       " 'MALtex',\n",
       " 'GLYCLTtex',\n",
       " '3HAD60',\n",
       " 'EX_for_e',\n",
       " 'DHAD1',\n",
       " 'ANS',\n",
       " 'DAPDC',\n",
       " 'GLYCAt2rpp',\n",
       " 'DDPA',\n",
       " '3OAS60',\n",
       " 'GLUPRT',\n",
       " 'KAS15',\n",
       " 'UGMDDS',\n",
       " 'LPLIPAL1E120pp',\n",
       " 'ACACT4r',\n",
       " 'LPLIPAL1E160pp',\n",
       " 'ALAGLUE',\n",
       " 'PRATPP',\n",
       " '3HAD80',\n",
       " 'EX_his__L_e',\n",
       " 'MDRPD',\n",
       " 'MANptspp',\n",
       " 'EX_dha_e',\n",
       " 'TYRTA',\n",
       " 'EX_spmd_e',\n",
       " 'ILETA',\n",
       " 'G6Pt6_2pp',\n",
       " 'GLYCtex',\n",
       " 'FUM',\n",
       " 'EAR141x',\n",
       " 'PYK',\n",
       " 'CSNt2pp',\n",
       " 'DHAD2',\n",
       " 'MLTGY2pp',\n",
       " 'ALLTAMH',\n",
       " '4PEPTabcpp',\n",
       " 'EX_acald_e',\n",
       " 'EX_ac_e',\n",
       " 'DHDPRy',\n",
       " 'EAR40x',\n",
       " 'GAL1PPpp',\n",
       " 'ACALDtex',\n",
       " 'PSSA160',\n",
       " 'PPAt4pp',\n",
       " 'G3PEabcpp',\n",
       " 'PRAGSr',\n",
       " 'ACACT1r',\n",
       " 'MAN6Pt6_2pp',\n",
       " 'O2tex',\n",
       " 'GPDDA2pp',\n",
       " 'EAR100x',\n",
       " '3OAR40',\n",
       " 'PHEtex',\n",
       " 'GALM2pp',\n",
       " 'PPBNGS',\n",
       " 'ICL',\n",
       " 'PPND',\n",
       " 'EX_ile__L_e',\n",
       " 'NADH16pp',\n",
       " 'HACD3',\n",
       " 'KARA1',\n",
       " 'QUINDH',\n",
       " 'CO2tex',\n",
       " 'ENO',\n",
       " 'SPMDabcpp',\n",
       " 'HACD4',\n",
       " 'FBA',\n",
       " 'ATPPRT',\n",
       " 'AGMH',\n",
       " 'H2St1pp',\n",
       " 'CADVtpp',\n",
       " 'DAPtex',\n",
       " 'ACLS',\n",
       " '3OAR80',\n",
       " 'LYSDC',\n",
       " 'ACHBS',\n",
       " 'QUIN2tpp',\n",
       " 'MTRK',\n",
       " 'AGM3PA',\n",
       " 'SHKK',\n",
       " 'UAAGDS',\n",
       " 'EAR60x',\n",
       " '4PCPpp',\n",
       " 'INDOLEt2rpp',\n",
       " 'UM4PL',\n",
       " 'PRFGS',\n",
       " 'MNLptspp',\n",
       " 'EX_ura_e',\n",
       " 'EAR121x',\n",
       " 'EX_pyr_e',\n",
       " 'ECOAH1',\n",
       " 'HXAtex',\n",
       " 'EX_phe__L_e',\n",
       " 'SULabcpp',\n",
       " 'IPPMIa',\n",
       " 'GAM6Pt6_2pp',\n",
       " 'ICHORT',\n",
       " 'PSCVT',\n",
       " 'OROTt2_2pp',\n",
       " '3HAD40',\n",
       " 'G6PDA',\n",
       " 'UM3PL',\n",
       " 'PYDXtpp',\n",
       " 'DGSNt2pp',\n",
       " 'PYRtex',\n",
       " 'EX_glyc_e',\n",
       " 'LACZpp',\n",
       " 'G3PGtex',\n",
       " 'URAtex',\n",
       " 'PPCK',\n",
       " 'ECOAH3',\n",
       " 'PSSA161',\n",
       " 'SUCDi',\n",
       " 'LALADGLUtpp',\n",
       " 'T2DECAI',\n",
       " 'AGM4Pt2pp',\n",
       " 'PGM',\n",
       " 'PSD160',\n",
       " 'GAMptspp',\n",
       " 'LPLIPAL1E141pp',\n",
       " 'ACOAD3f',\n",
       " 'SO4t2pp',\n",
       " 'EAR40y',\n",
       " 'OXAMTC',\n",
       " 'LEUtex',\n",
       " 'PNTOt4pp',\n",
       " 'SBTptspp',\n",
       " 'FACOAE80',\n",
       " 'EX_lac__L_e',\n",
       " 'D_LACtex',\n",
       " 'PLIPA2E161pp',\n",
       " 'URIC',\n",
       " 'URIt2pp',\n",
       " 'CTECOAI6_copy1',\n",
       " 'EX_asp__L_e',\n",
       " 'GLYCtpp',\n",
       " 'EX_alaala_e',\n",
       " 'DKMPPD3',\n",
       " 'EAR100y',\n",
       " 'GMPR',\n",
       " 'THRD_L',\n",
       " 'MPTG2',\n",
       " 'DHBD',\n",
       " 'EX_lcts_e',\n",
       " 'LALALGLUtpp',\n",
       " 'AM3PA',\n",
       " 'ALLTNtex',\n",
       " 'UDCPDP',\n",
       " 'KARA2',\n",
       " 'GAPD',\n",
       " 'ORPT',\n",
       " 'AGM4PCP',\n",
       " 'GLUR',\n",
       " 'EX_glyclt_e',\n",
       " 'EX_indole_e',\n",
       " 'SDPTA',\n",
       " 'PYDXNtpp',\n",
       " 'DHAtex',\n",
       " 'EX_skm_e',\n",
       " 'UAMAGS',\n",
       " 'PAPPT3',\n",
       " 'SPMS',\n",
       " 'AACPS2',\n",
       " '3PEPTabcpp',\n",
       " 'AGM4PH',\n",
       " 'EAR121y',\n",
       " 'ALAALAtex',\n",
       " 'TRPS3',\n",
       " '3OAR100',\n",
       " '3OAR60',\n",
       " 'TYRt2rpp',\n",
       " 'F6Pt6_2pp',\n",
       " 'QUIN2tex',\n",
       " 'EX_tyr__L_e',\n",
       " 'UM4PCP',\n",
       " 'AIRC3',\n",
       " 'SO4tex',\n",
       " 'PSD161',\n",
       " 'EX_lac__D_e',\n",
       " 'EX_ser__L_e',\n",
       " 'GLYtex',\n",
       " 'ANPRT',\n",
       " 'ALDD3y',\n",
       " 'KAS14',\n",
       " '3OAS121',\n",
       " 'DHDPS',\n",
       " 'GARFT',\n",
       " 'DURIt2pp',\n",
       " 'LPLIPAL1E140pp',\n",
       " 'EX_mal__L_e',\n",
       " 'GALt2pp',\n",
       " 'THD2pp',\n",
       " 'IGPDH',\n",
       " 'AGM3PApp',\n",
       " 'EX_glyald_e',\n",
       " 'PLIPA2E181pp',\n",
       " 'DCYTt2pp',\n",
       " 'AM4PCP',\n",
       " '4PCP',\n",
       " 'EX_quin_e',\n",
       " '3OAS141',\n",
       " 'GLYALDtpp',\n",
       " 'SPMDtex',\n",
       " 'SERtex',\n",
       " 'UDPG4E',\n",
       " 'PPNDH',\n",
       " 'AGM3Pt2pp',\n",
       " 'TRPS1',\n",
       " 'LADGMDH',\n",
       " 'INDOLEtex',\n",
       " 'PTRCtex',\n",
       " 'EX_asn__L_e',\n",
       " 'EX_gly_e',\n",
       " 'MCTP2App',\n",
       " 'EX_galctn__L_e',\n",
       " 'EX_arg__L_e',\n",
       " 'SADT2',\n",
       " 'IPPS',\n",
       " 'DHORTS',\n",
       " 'FACOAE141',\n",
       " 'ACACT3r',\n",
       " 'EX_glc__D_e',\n",
       " 'DALAt2pp']"
      ]
     },
     "execution_count": 12,
     "metadata": {},
     "output_type": "execute_result"
    }
   ],
   "source": [
    "test_values = reactions.iloc[:,1].tolist()\n",
    "test_keys = reactions.iloc[:,0].tolist()\n",
    "\n",
    "test_keys"
   ]
  },
  {
   "cell_type": "code",
   "execution_count": 13,
   "id": "local-warehouse",
   "metadata": {
    "scrolled": true
   },
   "outputs": [
    {
     "name": "stdout",
     "output_type": "stream",
     "text": [
      "Resultant dictionary is : {'H2Stex': 1, 'PAPSR': 2, 'ARGAGMt7pp': 3, 'METAT': 4, 'ACM6PH': 5, 'LPLIPAL1E180pp': 6, '3OAR121': 7, 'NACtpp': 8, 'EX_g3pg_e': 9, 'ASNN': 10, 'LPLIPAL1E181pp': 11, 'PRMICI': 12, 'AGMtex': 13, 'DHQTi': 14, 'EAR80y': 15, 'GSNt2pp': 16, 'ACtex': 17, 'EX_ptrc_e': 18, '3OAS140': 19, 'GLYALDtex': 20, 'IGPS': 21, 'LPLIPAL1E161pp': 22, '3HAD141': 23, 'ACOAD2f': 24, 'SHK3Dr': 25, 'EX_gal_e': 26, 'GALKr': 27, 'DM_oxam_c': 28, 'SUCCtex': 29, 'EX_leu__L_e': 30, 'PPS': 31, 'DAPabcpp': 32, 'UGLYCH': 33, 'ALCD2x': 34, 'ECOAH2': 35, 'XPPT': 36, 'EX_g1p_e': 37, 'G3PGabcpp': 38, 'PSP_Lpp': 39, 'GLYCAtex': 40, 'HISTP': 41, 'G1PPpp': 42, 'EX_lys__L_e': 43, 'CYTDt2pp': 44, 'MDDCP2pp': 45, 'LCTStex': 46, 'EX_taur_e': 47, 'THMDt2pp': 48, 'PHEt2rpp': 49, 'AIRC2': 50, 'EAR60y': 51, 'PGMT': 52, 'ADNt2pp': 53, 'IMPC': 54, 'TYRtex': 55, 'ICHORS_copy1': 56, 'LYStex': 57, 'MLTGY1pp': 58, 'EX_cynt_e': 59, 'MTRI': 60, 'LACZ': 61, 'ALLTNt2rpp': 62, 'EX_etoh_e': 63, 'LEUTAi': 64, 'ANHMK': 65, 'PGK': 66, '3HAD100': 67, 'DHORDfum': 68, 'PYRt2rpp': 69, 'CHORM': 70, 'UAGCVT': 71, 'FEROpp': 72, 'UAPGR': 73, 'CGLYtex': 74, 'PLIPA2E120pp': 75, 'PRAIi': 76, 'PLIPA2E180pp': 77, 'SDPDS': 78, 'MTAN': 79, 'UNK3': 80, 'TKT2': 81, 'EAR80x': 82, 'ACOAD1f': 83, 'SKMt2pp': 84, 'EX_orn_e': 85, 'UAMAS': 86, 'HSTPT': 87, 'D_LACt2pp': 88, 'DHORD2': 89, 'G3PEtex': 90, 'H2SO': 91, 'GALabcpp': 92, 'ACGAptspp': 93, 'HACD2': 94, 'EX_co2_e': 95, 'METabcpp': 96, 'DINSt2pp': 97, 'PRAIS': 98, 'DADNt2pp': 99, 'EX_tre_e': 100, 'AICART': 101, 'ARGtex': 102, 'AM4PA': 103, 'MLTGY4pp': 104, 'GALtex': 105, 'XAND': 106, 'AGM4PA': 107, 'EX_agm_e': 108, 'BPNT': 109, 'EX_hxa_e': 110, 'ALAtex': 111, 'LALGP': 112, 'BALAt2pp': 113, 'METSOX2abcpp': 114, 'ORNtex': 115, 'DHORD5': 116, 'HIStex': 117, 'ILEtex': 118, 'ADSK': 119, 'ECOAH4': 120, 'L_LACt2rpp': 121, '3OAS80': 122, 'EX_succ_e': 123, 'PRAMPC': 124, 'CPPPGO': 125, 'ACGAMK': 126, 'OBTFL': 127, 'EX_galctn__D_e': 128, 'EX_glyc__R_e': 129, 'AGM4PApp': 130, 'PLIPA2E140pp': 131, 'MDDCP1pp': 132, 'CO2tpp': 133, 'OMCDC': 134, 'ALAALAabcpp': 135, 'IG3PS': 136, '3HAD121': 137, 'UGLT': 138, 'DAPE': 139, 'CHORS': 140, 'ASPtex': 141, 'ASPCT': 142, 'ADMDC': 143, 'ALLTN': 144, 'UAGPT3': 145, 'EX_h2s_e': 146, 'PRASCSi': 147, 'FACOAL80t2pp': 148, 'NH4tpp': 149, 'HISTD': 150, 'DHAtpp': 151, 'ASNtex': 152, 'PLIPA2E141pp': 153, 'METSOX1abcpp': 154, 'AGM3PH': 155, 'EX_g3pe_e': 156, 'EX_cgly_e': 157, 'EX_so4_e': 158, 'TKT1': 159, 'IPMD': 160, 'INSt2pp': 161, 'DHQS': 162, 'DSERt2pp': 163, 'PLIPA2E160pp': 164, 'TYRPpp': 165, 'EX_alltn_e': 166, 'EX_LalaDgluMdapDala_e': 167, 'AGMt2pp': 168, 'SULR': 169, '3OAS100': 170, 'URDGLYCD': 171, 'ENTERES2': 172, 'GLCtex_copy1': 173, '3OAR140': 174, 'FA80ACPHi': 175, 'EX_ala__L_e': 176, 'PYDAMtpp': 177, 'ALCD19': 178, 'ACOATA': 179, 'EAR141y': 180, 'ETHAt2pp': 181, 'HACD1': 182, 'ETOHtrpp': 183, 'OMPDC': 184, '3OAR141': 185, 'PAPSR2': 186, 'THDPS': 187, 'ACACT2r': 188, 'EX_15dap_e': 189, 'ACALDtpp': 190, 'ADSL2r': 191, 'ACMANAptspp': 192, 'MDDEP4pp': 193, 'PHETA1': 194, 'IPPMIb': 195, 'ETOHtex': 196, 'AGM4PCPpp': 197, 'O2tpp': 198, 'MALtex': 199, 'GLYCLTtex': 200, '3HAD60': 201, 'EX_for_e': 202, 'DHAD1': 203, 'ANS': 204, 'DAPDC': 205, 'GLYCAt2rpp': 206, 'DDPA': 207, '3OAS60': 208, 'GLUPRT': 209, 'KAS15': 210, 'UGMDDS': 211, 'LPLIPAL1E120pp': 212, 'ACACT4r': 213, 'LPLIPAL1E160pp': 214, 'ALAGLUE': 215, 'PRATPP': 216, '3HAD80': 217, 'EX_his__L_e': 218, 'MDRPD': 219, 'MANptspp': 220, 'EX_dha_e': 221, 'TYRTA': 222, 'EX_spmd_e': 223, 'ILETA': 224, 'G6Pt6_2pp': 225, 'GLYCtex': 226, 'FUM': 227, 'EAR141x': 228, 'PYK': 229, 'CSNt2pp': 230, 'DHAD2': 231, 'MLTGY2pp': 232, 'ALLTAMH': 233, '4PEPTabcpp': 234, 'EX_acald_e': 235, 'EX_ac_e': 236, 'DHDPRy': 237, 'EAR40x': 238, 'GAL1PPpp': 239, 'ACALDtex': 240, 'PSSA160': 241, 'PPAt4pp': 242, 'G3PEabcpp': 243, 'PRAGSr': 244, 'ACACT1r': 245, 'MAN6Pt6_2pp': 246, 'O2tex': 247, 'GPDDA2pp': 248, 'EAR100x': 249, '3OAR40': 250, 'PHEtex': 251, 'GALM2pp': 252, 'PPBNGS': 253, 'ICL': 254, 'PPND': 255, 'EX_ile__L_e': 256, 'NADH16pp': 257, 'HACD3': 258, 'KARA1': 259, 'QUINDH': 260, 'CO2tex': 261, 'ENO': 262, 'SPMDabcpp': 263, 'HACD4': 264, 'FBA': 265, 'ATPPRT': 266, 'AGMH': 267, 'H2St1pp': 268, 'CADVtpp': 269, 'DAPtex': 270, 'ACLS': 271, '3OAR80': 272, 'LYSDC': 273, 'ACHBS': 274, 'QUIN2tpp': 275, 'MTRK': 276, 'AGM3PA': 277, 'SHKK': 278, 'UAAGDS': 279, 'EAR60x': 280, '4PCPpp': 281, 'INDOLEt2rpp': 282, 'UM4PL': 283, 'PRFGS': 284, 'MNLptspp': 285, 'EX_ura_e': 286, 'EAR121x': 287, 'EX_pyr_e': 288, 'ECOAH1': 289, 'HXAtex': 290, 'EX_phe__L_e': 291, 'SULabcpp': 292, 'IPPMIa': 293, 'GAM6Pt6_2pp': 294, 'ICHORT': 295, 'PSCVT': 296, 'OROTt2_2pp': 297, '3HAD40': 298, 'G6PDA': 299, 'UM3PL': 300, 'PYDXtpp': 301, 'DGSNt2pp': 302, 'PYRtex': 303, 'EX_glyc_e': 304, 'LACZpp': 305, 'G3PGtex': 306, 'URAtex': 307, 'PPCK': 308, 'ECOAH3': 309, 'PSSA161': 310, 'SUCDi': 311, 'LALADGLUtpp': 312, 'T2DECAI': 313, 'AGM4Pt2pp': 314, 'PGM': 315, 'PSD160': 316, 'GAMptspp': 317, 'LPLIPAL1E141pp': 318, 'ACOAD3f': 319, 'SO4t2pp': 320, 'EAR40y': 321, 'OXAMTC': 322, 'LEUtex': 323, 'PNTOt4pp': 324, 'SBTptspp': 325, 'FACOAE80': 326, 'EX_lac__L_e': 327, 'D_LACtex': 328, 'PLIPA2E161pp': 329, 'URIC': 330, 'URIt2pp': 331, 'CTECOAI6_copy1': 332, 'EX_asp__L_e': 333, 'GLYCtpp': 334, 'EX_alaala_e': 335, 'DKMPPD3': 336, 'EAR100y': 337, 'GMPR': 338, 'THRD_L': 339, 'MPTG2': 340, 'DHBD': 341, 'EX_lcts_e': 342, 'LALALGLUtpp': 343, 'AM3PA': 344, 'ALLTNtex': 345, 'UDCPDP': 346, 'KARA2': 347, 'GAPD': 348, 'ORPT': 349, 'AGM4PCP': 350, 'GLUR': 351, 'EX_glyclt_e': 352, 'EX_indole_e': 353, 'SDPTA': 354, 'PYDXNtpp': 355, 'DHAtex': 356, 'EX_skm_e': 357, 'UAMAGS': 358, 'PAPPT3': 359, 'SPMS': 360, 'AACPS2': 361, '3PEPTabcpp': 362, 'AGM4PH': 363, 'EAR121y': 364, 'ALAALAtex': 365, 'TRPS3': 366, '3OAR100': 367, '3OAR60': 368, 'TYRt2rpp': 369, 'F6Pt6_2pp': 370, 'QUIN2tex': 371, 'EX_tyr__L_e': 372, 'UM4PCP': 373, 'AIRC3': 374, 'SO4tex': 375, 'PSD161': 376, 'EX_lac__D_e': 377, 'EX_ser__L_e': 378, 'GLYtex': 379, 'ANPRT': 380, 'ALDD3y': 381, 'KAS14': 382, '3OAS121': 383, 'DHDPS': 384, 'GARFT': 385, 'DURIt2pp': 386, 'LPLIPAL1E140pp': 387, 'EX_mal__L_e': 388, 'GALt2pp': 389, 'THD2pp': 390, 'IGPDH': 391, 'AGM3PApp': 392, 'EX_glyald_e': 393, 'PLIPA2E181pp': 394, 'DCYTt2pp': 395, 'AM4PCP': 396, '4PCP': 397, 'EX_quin_e': 398, '3OAS141': 399, 'GLYALDtpp': 400, 'SPMDtex': 401, 'SERtex': 402, 'UDPG4E': 403, 'PPNDH': 404, 'AGM3Pt2pp': 405, 'TRPS1': 406, 'LADGMDH': 407, 'INDOLEtex': 408, 'PTRCtex': 409, 'EX_asn__L_e': 410, 'EX_gly_e': 411, 'MCTP2App': 412, 'EX_galctn__L_e': 413, 'EX_arg__L_e': 414, 'SADT2': 415, 'IPPS': 416, 'DHORTS': 417, 'FACOAE141': 418, 'ACACT3r': 419, 'EX_glc__D_e': 420, 'DALAt2pp': 421}\n"
     ]
    }
   ],
   "source": [
    "res = {test_keys[i]: test_values[i] for i in range(len(test_keys))}\n",
    "print(\"Resultant dictionary is : \" + str(res))"
   ]
  },
  {
   "cell_type": "code",
   "execution_count": 14,
   "id": "general-sigma",
   "metadata": {},
   "outputs": [
    {
     "data": {
      "text/plain": [
       "H2Stex           1\n",
       "PAPSR            2\n",
       "ARGAGMt7pp       3\n",
       "METAT            4\n",
       "ACM6PH           5\n",
       "              ... \n",
       "DHORTS         417\n",
       "FACOAE141      418\n",
       "ACACT3r        419\n",
       "EX_glc__D_e    420\n",
       "DALAt2pp       421\n",
       "Length: 421, dtype: int64"
      ]
     },
     "execution_count": 14,
     "metadata": {},
     "output_type": "execute_result"
    }
   ],
   "source": [
    "ser = pd.Series(data=res, index= None, dtype=None, name=None, copy=False, fastpath=False)\n",
    "ser"
   ]
  },
  {
   "cell_type": "code",
   "execution_count": 15,
   "id": "virgin-lodging",
   "metadata": {},
   "outputs": [
    {
     "name": "stdout",
     "output_type": "stream",
     "text": [
      "Downloading Map from https://escher.github.io/1-0-0/6/maps/Escherichia%20coli/iJO1366.Central%20metabolism.json\n"
     ]
    },
    {
     "data": {
      "application/vnd.jupyter.widget-view+json": {
       "model_id": "b0c546d8985942a8a86d8eae6bc39137",
       "version_major": 2,
       "version_minor": 0
      },
      "text/plain": [
       "Builder(never_ask_before_quit=True, reaction_data={'H2Stex': 1, 'PAPSR': 2, 'ARGAGMt7pp': 3, 'METAT': 4, 'ACM6…"
      ]
     },
     "metadata": {},
     "output_type": "display_data"
    }
   ],
   "source": [
    "builder = escher.Builder(map_name='iJO1366.Central metabolism', model=a, reaction_data=ser)\n",
    "builder"
   ]
  },
  {
   "cell_type": "code",
   "execution_count": 16,
   "id": "urban-system",
   "metadata": {
    "scrolled": true
   },
   "outputs": [
    {
     "name": "stdout",
     "output_type": "stream",
     "text": [
      "Builder(never_ask_before_quit=True, reaction_data={'H2Stex': 1, 'PAPSR': 2, 'ARGAGMt7pp': 3, 'METAT': 4, 'ACM6PH': 5, 'LPLIPAL1E180pp': 6, '3OAR121': 7, 'NACtpp': 8, 'EX_g3pg_e': 9, 'ASNN': 10, 'LPLIPAL1E181pp': 11, 'PRMICI': 12, 'AGMtex': 13, 'DHQTi': 14, 'EAR80y': 15, 'GSNt2pp': 16, 'ACtex': 17, 'EX_ptrc_e': 18, '3OAS140': 19, 'GLYALDtex': 20, 'IGPS': 21, 'LPLIPAL1E161pp': 22, '3HAD141': 23, 'ACOAD2f': 24, 'SHK3Dr': 25, 'EX_gal_e': 26, 'GALKr': 27, 'DM_oxam_c': 28, 'SUCCtex': 29, 'EX_leu__L_e': 30, 'PPS': 31, 'DAPabcpp': 32, 'UGLYCH': 33, 'ALCD2x': 34, 'ECOAH2': 35, 'XPPT': 36, 'EX_g1p_e': 37, 'G3PGabcpp': 38, 'PSP_Lpp': 39, 'GLYCAtex': 40, 'HISTP': 41, 'G1PPpp': 42, 'EX_lys__L_e': 43, 'CYTDt2pp': 44, 'MDDCP2pp': 45, 'LCTStex': 46, 'EX_taur_e': 47, 'THMDt2pp': 48, 'PHEt2rpp': 49, 'AIRC2': 50, 'EAR60y': 51, 'PGMT': 52, 'ADNt2pp': 53, 'IMPC': 54, 'TYRtex': 55, 'ICHORS_copy1': 56, 'LYStex': 57, 'MLTGY1pp': 58, 'EX_cynt_e': 59, 'MTRI': 60, 'LACZ': 61, 'ALLTNt2rpp': 62, 'EX_etoh_e': 63, 'LEUTAi': 64, 'ANHMK': 65, 'PGK': 66, '3HAD100': 67, 'DHORDfum': 68, 'PYRt2rpp': 69, 'CHORM': 70, 'UAGCVT': 71, 'FEROpp': 72, 'UAPGR': 73, 'CGLYtex': 74, 'PLIPA2E120pp': 75, 'PRAIi': 76, 'PLIPA2E180pp': 77, 'SDPDS': 78, 'MTAN': 79, 'UNK3': 80, 'TKT2': 81, 'EAR80x': 82, 'ACOAD1f': 83, 'SKMt2pp': 84, 'EX_orn_e': 85, 'UAMAS': 86, 'HSTPT': 87, 'D_LACt2pp': 88, 'DHORD2': 89, 'G3PEtex': 90, 'H2SO': 91, 'GALabcpp': 92, 'ACGAptspp': 93, 'HACD2': 94, 'EX_co2_e': 95, 'METabcpp': 96, 'DINSt2pp': 97, 'PRAIS': 98, 'DADNt2pp': 99, 'EX_tre_e': 100, 'AICART': 101, 'ARGtex': 102, 'AM4PA': 103, 'MLTGY4pp': 104, 'GALtex': 105, 'XAND': 106, 'AGM4PA': 107, 'EX_agm_e': 108, 'BPNT': 109, 'EX_hxa_e': 110, 'ALAtex': 111, 'LALGP': 112, 'BALAt2pp': 113, 'METSOX2abcpp': 114, 'ORNtex': 115, 'DHORD5': 116, 'HIStex': 117, 'ILEtex': 118, 'ADSK': 119, 'ECOAH4': 120, 'L_LACt2rpp': 121, '3OAS80': 122, 'EX_succ_e': 123, 'PRAMPC': 124, 'CPPPGO': 125, 'ACGAMK': 126, 'OBTFL': 127, 'EX_galctn__D_e': 128, 'EX_glyc__R_e': 129, 'AGM4PApp': 130, 'PLIPA2E140pp': 131, 'MDDCP1pp': 132, 'CO2tpp': 133, 'OMCDC': 134, 'ALAALAabcpp': 135, 'IG3PS': 136, '3HAD121': 137, 'UGLT': 138, 'DAPE': 139, 'CHORS': 140, 'ASPtex': 141, 'ASPCT': 142, 'ADMDC': 143, 'ALLTN': 144, 'UAGPT3': 145, 'EX_h2s_e': 146, 'PRASCSi': 147, 'FACOAL80t2pp': 148, 'NH4tpp': 149, 'HISTD': 150, 'DHAtpp': 151, 'ASNtex': 152, 'PLIPA2E141pp': 153, 'METSOX1abcpp': 154, 'AGM3PH': 155, 'EX_g3pe_e': 156, 'EX_cgly_e': 157, 'EX_so4_e': 158, 'TKT1': 159, 'IPMD': 160, 'INSt2pp': 161, 'DHQS': 162, 'DSERt2pp': 163, 'PLIPA2E160pp': 164, 'TYRPpp': 165, 'EX_alltn_e': 166, 'EX_LalaDgluMdapDala_e': 167, 'AGMt2pp': 168, 'SULR': 169, '3OAS100': 170, 'URDGLYCD': 171, 'ENTERES2': 172, 'GLCtex_copy1': 173, '3OAR140': 174, 'FA80ACPHi': 175, 'EX_ala__L_e': 176, 'PYDAMtpp': 177, 'ALCD19': 178, 'ACOATA': 179, 'EAR141y': 180, 'ETHAt2pp': 181, 'HACD1': 182, 'ETOHtrpp': 183, 'OMPDC': 184, '3OAR141': 185, 'PAPSR2': 186, 'THDPS': 187, 'ACACT2r': 188, 'EX_15dap_e': 189, 'ACALDtpp': 190, 'ADSL2r': 191, 'ACMANAptspp': 192, 'MDDEP4pp': 193, 'PHETA1': 194, 'IPPMIb': 195, 'ETOHtex': 196, 'AGM4PCPpp': 197, 'O2tpp': 198, 'MALtex': 199, 'GLYCLTtex': 200, '3HAD60': 201, 'EX_for_e': 202, 'DHAD1': 203, 'ANS': 204, 'DAPDC': 205, 'GLYCAt2rpp': 206, 'DDPA': 207, '3OAS60': 208, 'GLUPRT': 209, 'KAS15': 210, 'UGMDDS': 211, 'LPLIPAL1E120pp': 212, 'ACACT4r': 213, 'LPLIPAL1E160pp': 214, 'ALAGLUE': 215, 'PRATPP': 216, '3HAD80': 217, 'EX_his__L_e': 218, 'MDRPD': 219, 'MANptspp': 220, 'EX_dha_e': 221, 'TYRTA': 222, 'EX_spmd_e': 223, 'ILETA': 224, 'G6Pt6_2pp': 225, 'GLYCtex': 226, 'FUM': 227, 'EAR141x': 228, 'PYK': 229, 'CSNt2pp': 230, 'DHAD2': 231, 'MLTGY2pp': 232, 'ALLTAMH': 233, '4PEPTabcpp': 234, 'EX_acald_e': 235, 'EX_ac_e': 236, 'DHDPRy': 237, 'EAR40x': 238, 'GAL1PPpp': 239, 'ACALDtex': 240, 'PSSA160': 241, 'PPAt4pp': 242, 'G3PEabcpp': 243, 'PRAGSr': 244, 'ACACT1r': 245, 'MAN6Pt6_2pp': 246, 'O2tex': 247, 'GPDDA2pp': 248, 'EAR100x': 249, '3OAR40': 250, 'PHEtex': 251, 'GALM2pp': 252, 'PPBNGS': 253, 'ICL': 254, 'PPND': 255, 'EX_ile__L_e': 256, 'NADH16pp': 257, 'HACD3': 258, 'KARA1': 259, 'QUINDH': 260, 'CO2tex': 261, 'ENO': 262, 'SPMDabcpp': 263, 'HACD4': 264, 'FBA': 265, 'ATPPRT': 266, 'AGMH': 267, 'H2St1pp': 268, 'CADVtpp': 269, 'DAPtex': 270, 'ACLS': 271, '3OAR80': 272, 'LYSDC': 273, 'ACHBS': 274, 'QUIN2tpp': 275, 'MTRK': 276, 'AGM3PA': 277, 'SHKK': 278, 'UAAGDS': 279, 'EAR60x': 280, '4PCPpp': 281, 'INDOLEt2rpp': 282, 'UM4PL': 283, 'PRFGS': 284, 'MNLptspp': 285, 'EX_ura_e': 286, 'EAR121x': 287, 'EX_pyr_e': 288, 'ECOAH1': 289, 'HXAtex': 290, 'EX_phe__L_e': 291, 'SULabcpp': 292, 'IPPMIa': 293, 'GAM6Pt6_2pp': 294, 'ICHORT': 295, 'PSCVT': 296, 'OROTt2_2pp': 297, '3HAD40': 298, 'G6PDA': 299, 'UM3PL': 300, 'PYDXtpp': 301, 'DGSNt2pp': 302, 'PYRtex': 303, 'EX_glyc_e': 304, 'LACZpp': 305, 'G3PGtex': 306, 'URAtex': 307, 'PPCK': 308, 'ECOAH3': 309, 'PSSA161': 310, 'SUCDi': 311, 'LALADGLUtpp': 312, 'T2DECAI': 313, 'AGM4Pt2pp': 314, 'PGM': 315, 'PSD160': 316, 'GAMptspp': 317, 'LPLIPAL1E141pp': 318, 'ACOAD3f': 319, 'SO4t2pp': 320, 'EAR40y': 321, 'OXAMTC': 322, 'LEUtex': 323, 'PNTOt4pp': 324, 'SBTptspp': 325, 'FACOAE80': 326, 'EX_lac__L_e': 327, 'D_LACtex': 328, 'PLIPA2E161pp': 329, 'URIC': 330, 'URIt2pp': 331, 'CTECOAI6_copy1': 332, 'EX_asp__L_e': 333, 'GLYCtpp': 334, 'EX_alaala_e': 335, 'DKMPPD3': 336, 'EAR100y': 337, 'GMPR': 338, 'THRD_L': 339, 'MPTG2': 340, 'DHBD': 341, 'EX_lcts_e': 342, 'LALALGLUtpp': 343, 'AM3PA': 344, 'ALLTNtex': 345, 'UDCPDP': 346, 'KARA2': 347, 'GAPD': 348, 'ORPT': 349, 'AGM4PCP': 350, 'GLUR': 351, 'EX_glyclt_e': 352, 'EX_indole_e': 353, 'SDPTA': 354, 'PYDXNtpp': 355, 'DHAtex': 356, 'EX_skm_e': 357, 'UAMAGS': 358, 'PAPPT3': 359, 'SPMS': 360, 'AACPS2': 361, '3PEPTabcpp': 362, 'AGM4PH': 363, 'EAR121y': 364, 'ALAALAtex': 365, 'TRPS3': 366, '3OAR100': 367, '3OAR60': 368, 'TYRt2rpp': 369, 'F6Pt6_2pp': 370, 'QUIN2tex': 371, 'EX_tyr__L_e': 372, 'UM4PCP': 373, 'AIRC3': 374, 'SO4tex': 375, 'PSD161': 376, 'EX_lac__D_e': 377, 'EX_ser__L_e': 378, 'GLYtex': 379, 'ANPRT': 380, 'ALDD3y': 381, 'KAS14': 382, '3OAS121': 383, 'DHDPS': 384, 'GARFT': 385, 'DURIt2pp': 386, 'LPLIPAL1E140pp': 387, 'EX_mal__L_e': 388, 'GALt2pp': 389, 'THD2pp': 390, 'IGPDH': 391, 'AGM3PApp': 392, 'EX_glyald_e': 393, 'PLIPA2E181pp': 394, 'DCYTt2pp': 395, 'AM4PCP': 396, '4PCP': 397, 'EX_quin_e': 398, '3OAS141': 399, 'GLYALDtpp': 400, 'SPMDtex': 401, 'SERtex': 402, 'UDPG4E': 403, 'PPNDH': 404, 'AGM3Pt2pp': 405, 'TRPS1': 406, 'LADGMDH': 407, 'INDOLEtex': 408, 'PTRCtex': 409, 'EX_asn__L_e': 410, 'EX_gly_e': 411, 'MCTP2App': 412, 'EX_galctn__L_e': 413, 'EX_arg__L_e': 414, 'SADT2': 415, 'IPPS': 416, 'DHORTS': 417, 'FACOAE141': 418, 'ACACT3r': 419, 'EX_glc__D_e': 420, 'DALAt2pp': 421}, reaction_scale=[{'type': 'min', 'color': '#00ffff', 'size': 20}, {'type': 'median', 'color': '#00ffff', 'size': 20}, {'type': 'max', 'color': '#00ffff', 'size': 20}])\n"
     ]
    }
   ],
   "source": [
    "builder.reaction_scale = [\n",
    "    { 'type': 'min', 'color': '#00ffff', 'size': 20 },\n",
    "    { 'type': 'median', 'color': '#00ffff', 'size': 20 },\n",
    "    { 'type': 'max', 'color': '#00ffff', 'size': 20 }\n",
    "]\n",
    "\n",
    "\n",
    "print(builder)\n"
   ]
  },
  {
   "cell_type": "code",
   "execution_count": null,
   "id": "extensive-magic",
   "metadata": {},
   "outputs": [],
   "source": []
  }
 ],
 "metadata": {
  "kernelspec": {
   "display_name": "Python 3",
   "language": "python",
   "name": "python3"
  },
  "language_info": {
   "codemirror_mode": {
    "name": "ipython",
    "version": 3
   },
   "file_extension": ".py",
   "mimetype": "text/x-python",
   "name": "python",
   "nbconvert_exporter": "python",
   "pygments_lexer": "ipython3",
   "version": "3.8.3"
  }
 },
 "nbformat": 4,
 "nbformat_minor": 5
}
